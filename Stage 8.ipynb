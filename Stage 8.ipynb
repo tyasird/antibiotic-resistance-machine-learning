{
 "cells": [
  {
   "cell_type": "markdown",
   "metadata": {},
   "source": [
    "# Aim\n",
    "\n",
    "\n",
    "`create/train random forests model and desicion trees`   \n",
    "`RMSE – shows error about how my model Works,  because we are doing regression not classfication, our aim to predict.`   \n",
    "`create feature importance – how often the feature is used in the model for the predict`   \n",
    "`we want to see what paramters are more important? Visualise importance of features, how much you can predict that`  \n"
   ]
  },
  {
   "cell_type": "markdown",
   "metadata": {},
   "source": [
    "### Import Data From Excel "
   ]
  },
  {
   "cell_type": "code",
   "execution_count": 18,
   "metadata": {
    "scrolled": true
   },
   "outputs": [
    {
     "data": {
      "text/html": [
       "<div>\n",
       "<style scoped>\n",
       "    .dataframe tbody tr th:only-of-type {\n",
       "        vertical-align: middle;\n",
       "    }\n",
       "\n",
       "    .dataframe tbody tr th {\n",
       "        vertical-align: top;\n",
       "    }\n",
       "\n",
       "    .dataframe thead th {\n",
       "        text-align: right;\n",
       "    }\n",
       "</style>\n",
       "<table border=\"1\" class=\"dataframe\">\n",
       "  <thead>\n",
       "    <tr style=\"text-align: right;\">\n",
       "      <th></th>\n",
       "      <th>Country</th>\n",
       "      <th>Pub. with AMR and Country</th>\n",
       "      <th>Pub. With Country</th>\n",
       "      <th>Relative Importance</th>\n",
       "      <th>TF  \\n(pub. counts with keyword/total with keywords)</th>\n",
       "      <th>IDF \\nlog(total pub./pub. with keywords)</th>\n",
       "      <th>TF-IDF</th>\n",
       "      <th>(P01A) Agents against amoebiasis and other protozoal diseases</th>\n",
       "      <th>(P01A) %</th>\n",
       "      <th>(J01X) Other antibacterials</th>\n",
       "      <th>...</th>\n",
       "      <th>Life expectancy at birth Male years</th>\n",
       "      <th>Life expectancy at birth female years</th>\n",
       "      <th>Women who were first married by age 18 % of women ages 20-24</th>\n",
       "      <th>Account ownership at a financial institution or with a mobile-money-service provider, male (% of population ages 15+)</th>\n",
       "      <th>Account ownership at a financial institution or with a mobile-money-service provider, female (% of population ages 15+)</th>\n",
       "      <th>Wage and salary workers Male % of male employment</th>\n",
       "      <th>Wage and salaried workers female % of females employment</th>\n",
       "      <th>Firms with female participation in ownership % of firms</th>\n",
       "      <th>Female share of employment in senior and middle management %</th>\n",
       "      <th>Women in parliaments % of total seats</th>\n",
       "    </tr>\n",
       "  </thead>\n",
       "  <tbody>\n",
       "    <tr>\n",
       "      <th>0</th>\n",
       "      <td>Latvia</td>\n",
       "      <td>16</td>\n",
       "      <td>467</td>\n",
       "      <td>0.034261</td>\n",
       "      <td>0.003965</td>\n",
       "      <td>2.916680</td>\n",
       "      <td>0.011566</td>\n",
       "      <td>2.29</td>\n",
       "      <td>0.172</td>\n",
       "      <td>0.50</td>\n",
       "      <td>...</td>\n",
       "      <td>69.8</td>\n",
       "      <td>79.7</td>\n",
       "      <td>0.0</td>\n",
       "      <td>94.1</td>\n",
       "      <td>92.5</td>\n",
       "      <td>86.6</td>\n",
       "      <td>90.3</td>\n",
       "      <td>41.6</td>\n",
       "      <td>44.1</td>\n",
       "      <td>30</td>\n",
       "    </tr>\n",
       "    <tr>\n",
       "      <th>1</th>\n",
       "      <td>Portugal</td>\n",
       "      <td>102</td>\n",
       "      <td>3932</td>\n",
       "      <td>0.025941</td>\n",
       "      <td>0.025279</td>\n",
       "      <td>1.991384</td>\n",
       "      <td>0.050340</td>\n",
       "      <td>0.80</td>\n",
       "      <td>0.045</td>\n",
       "      <td>1.16</td>\n",
       "      <td>...</td>\n",
       "      <td>78.4</td>\n",
       "      <td>84.6</td>\n",
       "      <td>0.0</td>\n",
       "      <td>94.2</td>\n",
       "      <td>90.6</td>\n",
       "      <td>79.3</td>\n",
       "      <td>87.6</td>\n",
       "      <td>0.0</td>\n",
       "      <td>30.4</td>\n",
       "      <td>36</td>\n",
       "    </tr>\n",
       "    <tr>\n",
       "      <th>2</th>\n",
       "      <td>Iran, Islamic Rep.</td>\n",
       "      <td>307</td>\n",
       "      <td>16941</td>\n",
       "      <td>0.018122</td>\n",
       "      <td>0.076084</td>\n",
       "      <td>1.357058</td>\n",
       "      <td>0.103251</td>\n",
       "      <td>2.59</td>\n",
       "      <td>0.066</td>\n",
       "      <td>0.33</td>\n",
       "      <td>...</td>\n",
       "      <td>75.2</td>\n",
       "      <td>77.4</td>\n",
       "      <td>17.0</td>\n",
       "      <td>96.5</td>\n",
       "      <td>91.6</td>\n",
       "      <td>54.4</td>\n",
       "      <td>56.5</td>\n",
       "      <td>0.0</td>\n",
       "      <td>0.0</td>\n",
       "      <td>6</td>\n",
       "    </tr>\n",
       "    <tr>\n",
       "      <th>3</th>\n",
       "      <td>Estonia</td>\n",
       "      <td>16</td>\n",
       "      <td>895</td>\n",
       "      <td>0.017877</td>\n",
       "      <td>0.003965</td>\n",
       "      <td>2.634174</td>\n",
       "      <td>0.010445</td>\n",
       "      <td>1.50</td>\n",
       "      <td>0.123</td>\n",
       "      <td>0.65</td>\n",
       "      <td>...</td>\n",
       "      <td>73.8</td>\n",
       "      <td>82.6</td>\n",
       "      <td>0.0</td>\n",
       "      <td>97.5</td>\n",
       "      <td>98.4</td>\n",
       "      <td>85.7</td>\n",
       "      <td>93.2</td>\n",
       "      <td>35.8</td>\n",
       "      <td>34.3</td>\n",
       "      <td>30</td>\n",
       "    </tr>\n",
       "    <tr>\n",
       "      <th>4</th>\n",
       "      <td>Kosovo</td>\n",
       "      <td>8</td>\n",
       "      <td>448</td>\n",
       "      <td>0.017857</td>\n",
       "      <td>0.001983</td>\n",
       "      <td>2.934719</td>\n",
       "      <td>0.005819</td>\n",
       "      <td>0.61</td>\n",
       "      <td>0.030</td>\n",
       "      <td>0.22</td>\n",
       "      <td>...</td>\n",
       "      <td>69.8</td>\n",
       "      <td>74.2</td>\n",
       "      <td>0.0</td>\n",
       "      <td>61.1</td>\n",
       "      <td>43.7</td>\n",
       "      <td>0.0</td>\n",
       "      <td>0.0</td>\n",
       "      <td>13.2</td>\n",
       "      <td>15.3</td>\n",
       "      <td>0</td>\n",
       "    </tr>\n",
       "  </tbody>\n",
       "</table>\n",
       "<p>5 rows × 423 columns</p>\n",
       "</div>"
      ],
      "text/plain": [
       "              Country  Pub. with AMR and Country  Pub. With Country  \\\n",
       "0              Latvia                         16                467   \n",
       "1            Portugal                        102               3932   \n",
       "2  Iran, Islamic Rep.                        307              16941   \n",
       "3             Estonia                         16                895   \n",
       "4              Kosovo                          8                448   \n",
       "\n",
       "   Relative Importance  TF  \\n(pub. counts with keyword/total with keywords)  \\\n",
       "0             0.034261                                           0.003965      \n",
       "1             0.025941                                           0.025279      \n",
       "2             0.018122                                           0.076084      \n",
       "3             0.017877                                           0.003965      \n",
       "4             0.017857                                           0.001983      \n",
       "\n",
       "   IDF \\nlog(total pub./pub. with keywords)    TF-IDF  \\\n",
       "0                                  2.916680  0.011566   \n",
       "1                                  1.991384  0.050340   \n",
       "2                                  1.357058  0.103251   \n",
       "3                                  2.634174  0.010445   \n",
       "4                                  2.934719  0.005819   \n",
       "\n",
       "   (P01A) Agents against amoebiasis and other protozoal diseases  (P01A) %  \\\n",
       "0                                               2.29                 0.172   \n",
       "1                                               0.80                 0.045   \n",
       "2                                               2.59                 0.066   \n",
       "3                                               1.50                 0.123   \n",
       "4                                               0.61                 0.030   \n",
       "\n",
       "   (J01X) Other antibacterials  ...  Life expectancy at birth Male years  \\\n",
       "0                         0.50  ...                                 69.8   \n",
       "1                         1.16  ...                                 78.4   \n",
       "2                         0.33  ...                                 75.2   \n",
       "3                         0.65  ...                                 73.8   \n",
       "4                         0.22  ...                                 69.8   \n",
       "\n",
       "   Life expectancy at birth female years  \\\n",
       "0                                   79.7   \n",
       "1                                   84.6   \n",
       "2                                   77.4   \n",
       "3                                   82.6   \n",
       "4                                   74.2   \n",
       "\n",
       "   Women who were first married by age 18 % of women ages 20-24  \\\n",
       "0                                                0.0              \n",
       "1                                                0.0              \n",
       "2                                               17.0              \n",
       "3                                                0.0              \n",
       "4                                                0.0              \n",
       "\n",
       "   Account ownership at a financial institution or with a mobile-money-service provider, male (% of population ages 15+)  \\\n",
       "0                                               94.1                                                                       \n",
       "1                                               94.2                                                                       \n",
       "2                                               96.5                                                                       \n",
       "3                                               97.5                                                                       \n",
       "4                                               61.1                                                                       \n",
       "\n",
       "   Account ownership at a financial institution or with a mobile-money-service provider, female (% of population ages 15+)  \\\n",
       "0                                               92.5                                                                         \n",
       "1                                               90.6                                                                         \n",
       "2                                               91.6                                                                         \n",
       "3                                               98.4                                                                         \n",
       "4                                               43.7                                                                         \n",
       "\n",
       "   Wage and salary workers Male % of male employment  \\\n",
       "0                                               86.6   \n",
       "1                                               79.3   \n",
       "2                                               54.4   \n",
       "3                                               85.7   \n",
       "4                                                0.0   \n",
       "\n",
       "   Wage and salaried workers female % of females employment  \\\n",
       "0                                               90.3          \n",
       "1                                               87.6          \n",
       "2                                               56.5          \n",
       "3                                               93.2          \n",
       "4                                                0.0          \n",
       "\n",
       "   Firms with female participation in ownership % of firms  \\\n",
       "0                                               41.6         \n",
       "1                                                0.0         \n",
       "2                                                0.0         \n",
       "3                                               35.8         \n",
       "4                                               13.2         \n",
       "\n",
       "   Female share of employment in senior and middle management %  \\\n",
       "0                                               44.1              \n",
       "1                                               30.4              \n",
       "2                                                0.0              \n",
       "3                                               34.3              \n",
       "4                                               15.3              \n",
       "\n",
       "   Women in parliaments % of total seats  \n",
       "0                                     30  \n",
       "1                                     36  \n",
       "2                                      6  \n",
       "3                                     30  \n",
       "4                                      0  \n",
       "\n",
       "[5 rows x 423 columns]"
      ]
     },
     "execution_count": 18,
     "metadata": {},
     "output_type": "execute_result"
    }
   ],
   "source": [
    "import pandas as pd\n",
    "import numpy as np\n",
    "import matplotlib.pyplot as plt\n",
    "import seaborn as sns\n",
    "import warnings\n",
    "warnings.filterwarnings(\"ignore\")\n",
    "%matplotlib inline \n",
    "\n",
    "data = pd.read_excel('input_data/all_meta_data.xlsx') #, index_col=0\n",
    "data.head()"
   ]
  },
  {
   "cell_type": "markdown",
   "metadata": {},
   "source": [
    "### Delete String Columns, Create X and y variables, Show distribution of y (Pub. with AMR and Country)"
   ]
  },
  {
   "cell_type": "code",
   "execution_count": 2,
   "metadata": {},
   "outputs": [
    {
     "data": {
      "image/png": "[encoded data removed]",
      "text/plain": [
       "<Figure size 864x576 with 1 Axes>"
      ]
     },
     "metadata": {
      "needs_background": "light"
     },
     "output_type": "display_data"
    }
   ],
   "source": [
    "df = data.drop(\"Country\", axis='columns')\n",
    "#X = df.drop('Pub. with AMR and Country', axis='columns')\n",
    "X = df.iloc[:,6:]\n",
    "y = df['Pub. with AMR and Country']\n",
    "plt.figure(figsize=(12,8))\n",
    "sns.distplot(y)\n",
    "plt.show()"
   ]
  },
  {
   "cell_type": "markdown",
   "metadata": {},
   "source": [
    "# Adjust Limits for Random Parameters\n",
    "\n",
    "`n_estimators` number of trees in the foreset   \n",
    "`max_depth` max number of levels in each decision tree"
   ]
  },
  {
   "cell_type": "code",
   "execution_count": 3,
   "metadata": {
    "scrolled": true
   },
   "outputs": [],
   "source": [
    "from sklearn.ensemble import RandomForestRegressor\n",
    "from sklearn.model_selection import RandomizedSearchCV\n",
    "\n",
    "# Number of trees in random forest\n",
    "n_estimators = [int(x) for x in np.linspace(start = 10, stop = 500, num = 20)]\n",
    "# Number of features to consider at every split\n",
    "max_features = ['auto', 'sqrt']\n",
    "# Maximum number of levels in tree\n",
    "max_depth = [int(x) for x in np.linspace(2, 20, num = 10)]\n",
    "max_depth.append(None)\n",
    "# Minimum number of samples required to split a node\n",
    "min_samples_split = [2, 5, 10]\n",
    "# Minimum number of samples required at each leaf node\n",
    "min_samples_leaf = [1, 2, 4]\n",
    "# Method of selecting samples for training each tree\n",
    "bootstrap = [True, False]\n",
    "# Create the random grid\n",
    "random_grid = {'n_estimators': n_estimators,\n",
    "               'max_features': max_features,\n",
    "               'max_depth': max_depth,\n",
    "               'min_samples_split': min_samples_split,\n",
    "               'min_samples_leaf': min_samples_leaf,\n",
    "               'bootstrap': bootstrap}\n"
   ]
  },
  {
   "cell_type": "markdown",
   "metadata": {},
   "source": [
    "# Use the random grid to search for best hyperparameters\n",
    "#### First create the base model to tune\n",
    "#### Random search of parameters, using 3 fold cross validation, \n"
   ]
  },
  {
   "cell_type": "code",
   "execution_count": 4,
   "metadata": {
    "scrolled": true
   },
   "outputs": [
    {
     "name": "stdout",
     "output_type": "stream",
     "text": [
      "Fitting 3 folds for each of 100 candidates, totalling 300 fits\n"
     ]
    },
    {
     "name": "stderr",
     "output_type": "stream",
     "text": [
      "[Parallel(n_jobs=-1)]: Using backend LokyBackend with 12 concurrent workers.\n",
      "[Parallel(n_jobs=-1)]: Done  17 tasks      | elapsed:    2.8s\n",
      "[Parallel(n_jobs=-1)]: Done 138 tasks      | elapsed:    8.2s\n",
      "[Parallel(n_jobs=-1)]: Done 300 out of 300 | elapsed:   18.6s finished\n"
     ]
    },
    {
     "data": {
      "text/plain": [
       "RandomizedSearchCV(cv=3, estimator=RandomForestRegressor(), n_iter=100,\n",
       "                   n_jobs=-1,\n",
       "                   param_distributions={'bootstrap': [True, False],\n",
       "                                        'max_depth': [2, 4, 6, 8, 10, 12, 14,\n",
       "                                                      16, 18, 20, None],\n",
       "                                        'max_features': ['auto', 'sqrt'],\n",
       "                                        'min_samples_leaf': [1, 2, 4],\n",
       "                                        'min_samples_split': [2, 5, 10],\n",
       "                                        'n_estimators': [10, 35, 61, 87, 113,\n",
       "                                                         138, 164, 190, 216,\n",
       "                                                         242, 267, 293, 319,\n",
       "                                                         345, 371, 396, 422,\n",
       "                                                         448, 474, 500]},\n",
       "                   random_state=42, verbose=2)"
      ]
     },
     "execution_count": 4,
     "metadata": {},
     "output_type": "execute_result"
    }
   ],
   "source": [
    "from sklearn.model_selection import train_test_split\n",
    "from sklearn.ensemble import RandomForestRegressor\n",
    "from sklearn.metrics import mean_squared_error\n",
    "from sklearn.metrics import mean_absolute_error\n",
    "\n",
    "X_train, X_test, y_train, y_test = train_test_split(X, y, test_size=0.3, random_state=42)\n",
    "rf = RandomForestRegressor()\n",
    "# search across 100 different combinations, and use all available cores\n",
    "rf_random = RandomizedSearchCV(estimator = rf, param_distributions = random_grid, n_iter = 100, cv = 3, verbose=2, random_state=42, n_jobs = -1)\n",
    "# Fit the random search model\n",
    "rf_random.fit(X_train, y_train)"
   ]
  },
  {
   "cell_type": "markdown",
   "metadata": {},
   "source": [
    "### Show Best Parameters \n",
    "\n",
    "`test_size` use your %30 of data for the train model    \n",
    "`random_state` it is used for splitting the data into training and test  \n",
    "`n_estimators` number of trees in the foreset   \n",
    "`max_depth` max number of levels in each decision tree"
   ]
  },
  {
   "cell_type": "code",
   "execution_count": 5,
   "metadata": {},
   "outputs": [
    {
     "data": {
      "text/plain": [
       "{'n_estimators': 35,\n",
       " 'min_samples_split': 2,\n",
       " 'min_samples_leaf': 1,\n",
       " 'max_features': 'sqrt',\n",
       " 'max_depth': 16,\n",
       " 'bootstrap': False}"
      ]
     },
     "execution_count": 5,
     "metadata": {},
     "output_type": "execute_result"
    }
   ],
   "source": [
    "rf_random.best_params_ #rf_random.best_estimator_"
   ]
  },
  {
   "cell_type": "markdown",
   "metadata": {},
   "source": [
    "### Create RandomForest Regressor  with the best parameters\n",
    "   "
   ]
  },
  {
   "cell_type": "code",
   "execution_count": 6,
   "metadata": {},
   "outputs": [
    {
     "name": "stdout",
     "output_type": "stream",
     "text": [
      "Mean Absolute Error (MAE): 34.93\n",
      "Mean Squared Error (MSE): 3975.21\n",
      "Root Mean Squared Error (RMSE): 63.05\n"
     ]
    }
   ],
   "source": [
    "from sklearn.model_selection import train_test_split\n",
    "from sklearn.ensemble import RandomForestRegressor\n",
    "from sklearn.metrics import mean_squared_error\n",
    "from sklearn.metrics import mean_absolute_error\n",
    "\n",
    "X_train, X_test, y_train, y_test = train_test_split(X, y, test_size=0.3, random_state=42)\n",
    "rf = RandomForestRegressor(n_estimators=448, max_depth = 6,min_samples_leaf=2, max_features='auto',random_state=42)\n",
    "rf.fit(X_train, y_train)\n",
    "\n",
    "mae = mean_absolute_error(rf.predict(X_test), y_test)\n",
    "mse = mean_squared_error(rf.predict(X_test), y_test)\n",
    "rmse = np.sqrt(mse)\n",
    "\n",
    "print('Mean Absolute Error (MAE): %.2f' % mae)\n",
    "print('Mean Squared Error (MSE): %.2f' % mse)\n",
    "print('Root Mean Squared Error (RMSE): %.2f' % rmse)"
   ]
  },
  {
   "cell_type": "markdown",
   "metadata": {},
   "source": [
    "# Show First Estimator "
   ]
  },
  {
   "cell_type": "code",
   "execution_count": 1,
   "metadata": {
    "collapsed": true,
    "jupyter": {
     "outputs_hidden": true
    }
   },
   "outputs": [
    {
     "ename": "NameError",
     "evalue": "name 'rf' is not defined",
     "output_type": "error",
     "traceback": [
      "\u001b[1;31m---------------------------------------------------------------------------\u001b[0m",
      "\u001b[1;31mNameError\u001b[0m                                 Traceback (most recent call last)",
      "\u001b[1;32m<ipython-input-1-261504e3af61>\u001b[0m in \u001b[0;36m<module>\u001b[1;34m\u001b[0m\n\u001b[0;32m      5\u001b[0m \u001b[1;32mfrom\u001b[0m \u001b[0mio\u001b[0m \u001b[1;32mimport\u001b[0m \u001b[0mBytesIO\u001b[0m\u001b[1;33m\u001b[0m\u001b[1;33m\u001b[0m\u001b[0m\n\u001b[0;32m      6\u001b[0m \u001b[1;33m\u001b[0m\u001b[0m\n\u001b[1;32m----> 7\u001b[1;33m \u001b[0md_tree1\u001b[0m \u001b[1;33m=\u001b[0m \u001b[0mrf\u001b[0m\u001b[1;33m.\u001b[0m\u001b[0mestimators_\u001b[0m\u001b[1;33m[\u001b[0m\u001b[1;36m2\u001b[0m\u001b[1;33m]\u001b[0m\u001b[1;33m\u001b[0m\u001b[1;33m\u001b[0m\u001b[0m\n\u001b[0m\u001b[0;32m      8\u001b[0m \u001b[0mdot_data\u001b[0m \u001b[1;33m=\u001b[0m \u001b[0mStringIO\u001b[0m\u001b[1;33m(\u001b[0m\u001b[1;33m)\u001b[0m\u001b[1;33m\u001b[0m\u001b[1;33m\u001b[0m\u001b[0m\n\u001b[0;32m      9\u001b[0m \u001b[0mexport_graphviz\u001b[0m\u001b[1;33m(\u001b[0m\u001b[0md_tree1\u001b[0m\u001b[1;33m,\u001b[0m \u001b[0mfeature_names\u001b[0m \u001b[1;33m=\u001b[0m \u001b[0mX\u001b[0m\u001b[1;33m.\u001b[0m\u001b[0mcolumns\u001b[0m\u001b[1;33m,\u001b[0m \u001b[0mout_file\u001b[0m \u001b[1;33m=\u001b[0m \u001b[0mdot_data\u001b[0m\u001b[1;33m,\u001b[0m \u001b[0mfilled\u001b[0m \u001b[1;33m=\u001b[0m \u001b[1;32mTrue\u001b[0m\u001b[1;33m,\u001b[0m \u001b[0mrounded\u001b[0m\u001b[1;33m=\u001b[0m\u001b[1;32mTrue\u001b[0m\u001b[1;33m)\u001b[0m\u001b[1;33m\u001b[0m\u001b[1;33m\u001b[0m\u001b[0m\n",
      "\u001b[1;31mNameError\u001b[0m: name 'rf' is not defined"
     ]
    }
   ],
   "source": [
    "from ipywidgets import Image\n",
    "from io import StringIO\n",
    "import pydotplus\n",
    "from sklearn.tree import export_graphviz\n",
    "from io import BytesIO\n",
    "\n",
    "d_tree1 = rf.estimators_[2]\n",
    "dot_data = StringIO()\n",
    "export_graphviz(d_tree1, feature_names = X.columns, out_file = dot_data, filled = True, rounded=True)\n",
    "graph = pydotplus.graph_from_dot_data(dot_data.getvalue())\n",
    "Image(value = graph.create_png())\n",
    "Image.open((graph.create_png())).show()"
   ]
  },
  {
   "cell_type": "markdown",
   "metadata": {},
   "source": [
    "# Feature importances based on Random Forest Regressor"
   ]
  },
  {
   "cell_type": "code",
   "execution_count": 11,
   "metadata": {},
   "outputs": [
    {
     "data": {
      "image/png": "[encoded data removed]",
      "text/plain": [
       "<Figure size 1152x648 with 1 Axes>"
      ]
     },
     "metadata": {
      "needs_background": "light"
     },
     "output_type": "display_data"
    }
   ],
   "source": [
    "ranking = rf.feature_importances_\n",
    "features = np.argsort(ranking)[::-1][:10]\n",
    "columns = X.columns\n",
    "\n",
    "plt.figure(figsize=(16, 9))\n",
    "plt.title(\"Feature importances based on Random Forest Regressor\", y = 1.03, size = 18)\n",
    "plt.bar(range(len(features)), ranking[features], color=\"aqua\", align=\"center\")\n",
    "plt.xticks(range(len(features)), columns[features], rotation=80)\n",
    "plt.show()"
   ]
  }
 ],
 "metadata": {
  "kernelspec": {
   "display_name": "Python 3",
   "language": "python",
   "name": "python3"
  },
  "language_info": {
   "codemirror_mode": {
    "name": "ipython",
    "version": 3
   },
   "file_extension": ".py",
   "mimetype": "text/x-python",
   "name": "python",
   "nbconvert_exporter": "python",
   "pygments_lexer": "ipython3",
   "version": "3.7.6"
  }
 },
 "nbformat": 4,
 "nbformat_minor": 4
}
