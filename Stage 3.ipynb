{
 "cells": [
  {
   "cell_type": "markdown",
   "metadata": {},
   "source": [
    "# Aim\n",
    "\n",
    "`fetch all articles from pubmed with keywords (\"antibiotic resistant\")`  \n",
    "`parse articles (title, year, abstract)`  \n",
    "`save data as json`  \n",
    "\n",
    "**References**\n",
    "\n",
    "https://biopython.org/docs/dev/api/Bio.Entrez.html\n"
   ]
  },
  {
   "cell_type": "markdown",
   "metadata": {},
   "source": [
    "<B>Import Packages </B>"
   ]
  },
  {
   "cell_type": "code",
   "execution_count": 2,
   "metadata": {},
   "outputs": [],
   "source": [
    "from Bio import Entrez\n",
    "from Bio import Medline\n",
    "import math\n",
    "import json\n",
    "import time\n",
    "import array as arr\n",
    "import pprint\n",
    "import itertools"
   ]
  },
  {
   "cell_type": "markdown",
   "metadata": {},
   "source": [
    "<B>Define Global Variables</B>\n",
    "\n",
    "`query` search string   \n",
    "`show_per_page` results for per page   \n",
    "`first_page` start page \n"
   ]
  },
  {
   "cell_type": "code",
   "execution_count": 3,
   "metadata": {},
   "outputs": [],
   "source": [
    "start_time = time.time()\n",
    "accept_pub_types = [\"Journal Article\", \"Clinical Trial\"]\n",
    "query = \"((antimicrobial resistant[Title/Abstract]) OR antimicrobial resistant[Title/Abstract]]) OR antimicrobial resistance[Title/Abstract]]\"\n",
    "show_per_page = 100\n",
    "first_page = 0\n",
    "email = \"tyasird@hotmail.com\"\n",
    "tool_name = \"AntimicrobialResearch\"\n",
    "api_key = \"9f681a8a76713415f65d94d0e5aef8fb6208\"\n",
    "Entrez.email = email\n",
    "Entrez.tool = tool_name\n",
    "all_items = []"
   ]
  },
  {
   "cell_type": "markdown",
   "metadata": {},
   "source": [
    "<b>Get ID List</b>  \n",
    "Search string and return PubMedID from all articles.  \n",
    "We have to define 3 Arguments (search string, start page, show results per page)  \n",
    "Returns total count of results, number of page, PubMedID List"
   ]
  },
  {
   "cell_type": "code",
   "execution_count": 4,
   "metadata": {},
   "outputs": [],
   "source": [
    "def split_list(lst, n):\n",
    "    for i in range(0, len(lst), n):\n",
    "        yield lst[i:i + n]\n",
    "        \n",
    "        \n",
    "def list_uniq(lst):\n",
    "    uniq = [x for x in set(tuple(x) for x in lst)]\n",
    "    return [x for sublist in uniq for x in sublist]"
   ]
  },
  {
   "cell_type": "code",
   "execution_count": 5,
   "metadata": {},
   "outputs": [],
   "source": [
    "def get_page_idlist(query, which_page, show_per_page):\n",
    "    search = Entrez.esearch(db=\"pubmed\", term=query, RetStart=(which_page * show_per_page), RetMax=show_per_page, api_key=api_key)\n",
    "    record = Entrez.read(search)\n",
    "    total_page = math.ceil(int(record['Count']) / int(record['RetMax']))\n",
    "    return record['Count'], total_page, record['IdList']"
   ]
  },
  {
   "cell_type": "markdown",
   "metadata": {},
   "source": [
    "<b>Fetch Article</b>  \n",
    "Fetch all article using PubmedID and return as a Dictionary"
   ]
  },
  {
   "cell_type": "code",
   "execution_count": 6,
   "metadata": {},
   "outputs": [],
   "source": [
    "def fetch_id_list(lst, page):\n",
    "    splited = (list(split_list(lst, 10000)))\n",
    "    efetch = Entrez.efetch(\"pubmed\", id=\",\".join(str(v) for v in splited[page]), rettype=\"medline\", retmax=10000)  # retmode=\"xml\"\n",
    "    records = Medline.parse(efetch)\n",
    "    return list(records)  # return Entrez.read(efetch)\n",
    "\n",
    "def get_all_idlist(how_many_pages):\n",
    "    all_id_list = []\n",
    "    total_count, page_count, _ = get_page_idlist(query, 0, show_per_page)\n",
    "    pages = page_count if how_many_pages == 0 else how_many_pages\n",
    "    \n",
    "    for page in range(pages):\n",
    "        _, _, id_list = get_page_idlist(query, page, show_per_page)\n",
    "        all_id_list.append(id_list)\n",
    "\n",
    "    return total_count, page_count, list_uniq(all_id_list)"
   ]
  },
  {
   "cell_type": "markdown",
   "metadata": {},
   "source": [
    "<b>Parse Article</b>  \n",
    "- Parse all articles \n",
    "- Get title,date,abstract  \n",
    "- Append to new array   "
   ]
  },
  {
   "cell_type": "code",
   "execution_count": 7,
   "metadata": {},
   "outputs": [],
   "source": [
    "def parse_fetched_data(data):\n",
    "    fetched_article_count = 0\n",
    "    for d in data:\n",
    "        if d.get(\"PT\")[0] in accept_pub_types:\n",
    "            new_item = {}\n",
    "            new_item['pmid'] = d.get(\"PMID\")\n",
    "            new_item['date'] = d.get(\"DP\")\n",
    "            new_item['title'] = d.get(\"TI\")\n",
    "            new_item['abstract'] = d.get(\"AB\")\n",
    "            new_item['publication_type'] = d.get(\"PT\")\n",
    "            all_items.append(new_item)\n",
    "            fetched_article_count += 1\n",
    "            if fetched_article_count % 1000 == 0:\n",
    "                time.sleep(1)\n",
    "            # print(hex(id(new_item)))\n",
    "    return fetched_article_count, all_items"
   ]
  },
  {
   "cell_type": "markdown",
   "metadata": {},
   "source": [
    "<b>Save data as a JSON file</b>"
   ]
  },
  {
   "cell_type": "code",
   "execution_count": 8,
   "metadata": {},
   "outputs": [],
   "source": [
    "def create_json(data, saveas):\n",
    "    with open(saveas, 'w') as fp:\n",
    "        json.dump(data, fp)"
   ]
  },
  {
   "cell_type": "markdown",
   "metadata": {},
   "source": [
    "<b>Run Script</b>"
   ]
  },
  {
   "cell_type": "code",
   "execution_count": null,
   "metadata": {},
   "outputs": [],
   "source": [
    "total_count, total_page, id_list = get_all_idlist(1)\n",
    "\n",
    "for i in range(total_page):\n",
    "    fetched_id_list = fetch_id_list(id_list, i)\n",
    "    fetched_article_count, db = parse_fetched_data(fetched_id_list)\n",
    "\n",
    "#create_json(all_items, \"data.json\")\n"
   ]
  },
  {
   "cell_type": "code",
   "execution_count": null,
   "metadata": {},
   "outputs": [],
   "source": []
  }
 ],
 "metadata": {
  "kernelspec": {
   "display_name": "Python 3",
   "language": "python",
   "name": "python3"
  },
  "language_info": {
   "codemirror_mode": {
    "name": "ipython",
    "version": 3
   },
   "file_extension": ".py",
   "mimetype": "text/x-python",
   "name": "python",
   "nbconvert_exporter": "python",
   "pygments_lexer": "ipython3",
   "version": "3.8.3"
  }
 },
 "nbformat": 4,
 "nbformat_minor": 4
}
