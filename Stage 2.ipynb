{
 "cells": [
  {
   "cell_type": "markdown",
   "metadata": {},
   "source": [
    "# Aim\n",
    " \n",
    "`train word2vec models to find robust networks`  \n",
    "`measure the variation in word distances`  \n",
    "`vectorize words`    \n",
    "`sentence -> tokenize -> count frequency`   \n",
    "`train a word2vec neural network`    \n",
    "`visulaize the results`  \n",
    "`n-dimension vector -> 2-dimension vector -> visulaize`  \n",
    "\n",
    "\n",
    "**References**\n",
    "\n",
    "https://machinelearningmastery.com/develop-word-embeddings-python-gensim/\n"
   ]
  },
  {
   "cell_type": "code",
   "execution_count": 1,
   "metadata": {},
   "outputs": [],
   "source": [
    "import pandas as pd\n",
    "import numpy as np\n",
    "import re\n",
    "import nltk\n",
    "import matplotlib\n",
    "import matplotlib.pyplot as plt\n",
    "import string\n",
    "from nltk.corpus import stopwords, webtext\n",
    "from nltk.stem import PorterStemmer\n",
    "from textblob import Word\n",
    "import seaborn as sns\n",
    "from textblob import TextBlob\n",
    "from gensim.models import Word2Vec\n",
    "from sklearn.decomposition import PCA\n",
    "import bs4\n",
    "import requests\n",
    "import multiprocessing"
   ]
  },
  {
   "cell_type": "markdown",
   "metadata": {},
   "source": [
    "# fetch data from wikipedia"
   ]
  },
  {
   "cell_type": "code",
   "execution_count": 2,
   "metadata": {},
   "outputs": [],
   "source": [
    "response = requests.get(\"https://en.wikipedia.org/wiki/Cancer\")\n",
    "\n",
    "if response is not None:\n",
    "    html = bs4.BeautifulSoup(response.text, 'html.parser')\n",
    "    title = html.select(\"#firstHeading\")[0].text\n",
    "    paragraphs = html.select(\"p\")\n",
    "    text = '\\n'.join([ para.text for para in paragraphs])"
   ]
  },
  {
   "cell_type": "markdown",
   "metadata": {},
   "source": [
    "# clean data and tokenize"
   ]
  },
  {
   "cell_type": "code",
   "execution_count": 3,
   "metadata": {},
   "outputs": [],
   "source": [
    "# Split data by sentence and create dataframe\n",
    "df = pd.DataFrame({'data': text.split(\".\")})\n",
    "# Convert to lowercase\n",
    "df['data'] = df['data'].apply(lambda x: \" \".join(x.lower() for x in x.split()))\n",
    "# Remove Punctuation (! ? # etc.)\n",
    "df['data'] = df['data'].str.replace('[^\\w\\s]', \"\")\n",
    "# Stop words (is are to etc.)\n",
    "stop_words = set(stopwords.words('english'))\n",
    "df['data'] = df['data'].apply(lambda x: \" \".join(x for x in x.split() if x not in stop_words))\n",
    "# Stemming (fish fishes fishing)\n",
    "st = PorterStemmer()\n",
    "df['data'] = df['data'].apply(lambda x: \" \".join([st.stem(word) for word in x.split()]))\n",
    "# Lemmatizing (good better best)\n",
    "df['data'] = df['data'].apply(lambda x: \"\".join([Word(word).lemmatize() for word in x]))\n",
    "# Tokenize (split to words)\n",
    "df['tokenized_text'] = df['data'].apply(lambda x: nltk.word_tokenize(x))"
   ]
  },
  {
   "cell_type": "markdown",
   "metadata": {},
   "source": [
    "# create vocabulary"
   ]
  },
  {
   "cell_type": "code",
   "execution_count": 4,
   "metadata": {},
   "outputs": [],
   "source": [
    "# Vocabulary and size\n",
    "vocabulary_size = len(df['tokenized_text'].apply(pd.Series).stack().unique())\n",
    "vocabulary = df['tokenized_text'].apply(pd.Series).stack().unique()"
   ]
  },
  {
   "cell_type": "markdown",
   "metadata": {},
   "source": [
    "# frequence"
   ]
  },
  {
   "cell_type": "code",
   "execution_count": 5,
   "metadata": {},
   "outputs": [
    {
     "data": {
      "image/png": "[encoded data removed]",
      "text/plain": [
       "<Figure size 432x288 with 1 Axes>"
      ]
     },
     "metadata": {
      "needs_background": "light"
     },
     "output_type": "display_data"
    },
    {
     "data": {
      "text/plain": [
       "<matplotlib.axes._subplots.AxesSubplot at 0x1872f1c7d08>"
      ]
     },
     "execution_count": 5,
     "metadata": {},
     "output_type": "execute_result"
    }
   ],
   "source": [
    "# convert dataframe to list\n",
    "sum_data = sum(df['tokenized_text'], [])\n",
    "frequency_dist = nltk.FreqDist(sum_data)\n",
    "frequency_dist.plot(10, cumulative=False)"
   ]
  },
  {
   "cell_type": "markdown",
   "metadata": {},
   "source": [
    "# create model with gensim (Word2Vec)\n",
    "\n",
    "\n",
    "**size**\n",
    "The size of the dense vector that is to represent each token or word. \n",
    "\n",
    "**window**\n",
    "The maximum distance between the target word and its neighboring word.\n",
    "\n",
    "**min_count**\n",
    "Minimium frequency count of words. The model would ignore words that do not statisfy the min_count. \n",
    "\n",
    "**workers**\n",
    "How many threads to use behind the scenes?"
   ]
  },
  {
   "cell_type": "code",
   "execution_count": 6,
   "metadata": {},
   "outputs": [],
   "source": [
    "model = Word2Vec (df['tokenized_text'], size=300, window=10, min_count=2, workers=multiprocessing.cpu_count())"
   ]
  },
  {
   "cell_type": "markdown",
   "metadata": {},
   "source": [
    "# train a model"
   ]
  },
  {
   "cell_type": "code",
   "execution_count": 7,
   "metadata": {},
   "outputs": [],
   "source": [
    "model.train(df['tokenized_text'],total_examples=len(df['tokenized_text']),epochs=10)\n",
    "words = list(model.wv.vocab)\n",
    "model.save('testmodel')"
   ]
  },
  {
   "cell_type": "markdown",
   "metadata": {},
   "source": [
    "# test a model"
   ]
  },
  {
   "cell_type": "code",
   "execution_count": 8,
   "metadata": {
    "scrolled": true
   },
   "outputs": [
    {
     "data": {
      "text/plain": [
       "[('occur', 0.9999576807022095),\n",
       " ('use', 0.9999567270278931),\n",
       " ('includ', 0.9999552369117737),\n",
       " ('common', 0.9999551773071289),\n",
       " ('effect', 0.9999545812606812),\n",
       " ('diseas', 0.9999544024467468),\n",
       " ('may', 0.9999537467956543),\n",
       " ('treatment', 0.9999534487724304),\n",
       " ('cell', 0.9999527335166931),\n",
       " ('carcinoma', 0.9999526143074036)]"
      ]
     },
     "execution_count": 8,
     "metadata": {},
     "output_type": "execute_result"
    }
   ],
   "source": [
    "model.wv.most_similar (positive=[\"cancer\",\"tumor\"],negative=[\"health\"])"
   ]
  },
  {
   "cell_type": "code",
   "execution_count": 9,
   "metadata": {},
   "outputs": [
    {
     "data": {
      "text/plain": [
       "0.99998295"
      ]
     },
     "execution_count": 9,
     "metadata": {},
     "output_type": "execute_result"
    }
   ],
   "source": [
    "model.wv.similarity(w1=\"cancer\", w2=\"tumor\")"
   ]
  },
  {
   "cell_type": "code",
   "execution_count": 10,
   "metadata": {
    "scrolled": true
   },
   "outputs": [
    {
     "data": {
      "text/plain": [
       "[('cancer', 0.9999875426292419),\n",
       " ('may', 0.9999808073043823),\n",
       " ('diseas', 0.9999805688858032),\n",
       " ('treatment', 0.9999801516532898),\n",
       " ('occur', 0.9999798536300659),\n",
       " ('carcinoma', 0.9999778866767883),\n",
       " ('includ', 0.9999773502349854),\n",
       " ('use', 0.9999772906303406),\n",
       " ('tissu', 0.9999769330024719),\n",
       " ('common', 0.999976634979248)]"
      ]
     },
     "execution_count": 10,
     "metadata": {},
     "output_type": "execute_result"
    }
   ],
   "source": [
    "model.wv.most_similar (positive=[\"cell\",\"tumor\"])"
   ]
  }
 ],
 "metadata": {
  "kernelspec": {
   "display_name": "Python 3",
   "language": "python",
   "name": "python3"
  },
  "language_info": {
   "codemirror_mode": {
    "name": "ipython",
    "version": 3
   },
   "file_extension": ".py",
   "mimetype": "text/x-python",
   "name": "python",
   "nbconvert_exporter": "python",
   "pygments_lexer": "ipython3",
   "version": "3.8.3"
  }
 },
 "nbformat": 4,
 "nbformat_minor": 4
}
