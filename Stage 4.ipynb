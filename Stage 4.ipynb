{
 "cells": [
  {
   "cell_type": "markdown",
   "metadata": {},
   "source": [
    "# Aim\n",
    "\n",
    "`Read all articles and find country count with geotext and pycountry`  \n",
    "`Filter by publication type and exclude reviews`  \n",
    "`Then we have to word2vec model to vectorize text and find word embeddings`  \n",
    "\n",
    "**References**\n",
    "\n",
    "https://buildmedia.readthedocs.org/media/pdf/geotext/latest/geotext.pdf  \n",
    "https://pypi.org/project/geotext/  \n",
    "https://www.nlm.nih.gov/bsd/licensee/elements_descriptions.html#publicationtypelist  \n",
    "https://github.com/NCBI-Hackathons/ClusterDuck/blob/master/needlay/get_abstracts.py  \n",
    "https://dataguide.nlm.nih.gov/eutilities/utilities.html  "
   ]
  },
  {
   "cell_type": "markdown",
   "metadata": {},
   "source": [
    "#### Import Json File and Update City/Country\n",
    "\n",
    "- import json file  \n",
    "- search city and country in title&abstract  \n",
    "- if there isn't any country or city, delete article."
   ]
  },
  {
   "cell_type": "code",
   "execution_count": 3,
   "metadata": {},
   "outputs": [
    {
     "name": "stdout",
     "output_type": "stream",
     "text": [
      "Raw data count:  19427\n",
      "Articles with city or country information:  9789\n"
     ]
    }
   ],
   "source": [
    "import json\n",
    "from geotext import GeoText\n",
    "import pycountry\n",
    "import geocoder\n",
    "from geopy.geocoders import Nominatim\n",
    "\n",
    "def list_uniq(lst):\n",
    "    uniq = [x for x in set(tuple(x) for x in lst)]\n",
    "    return [x for sublist in uniq for x in sublist]\n",
    "\n",
    "def create_json(data, saveas):\n",
    "    with open(saveas, 'w') as fp:\n",
    "        json.dump(data, fp)\n",
    "        \n",
    "with open('input_data/data.json') as json_file:\n",
    "    data = json.load(json_file)\n",
    "    new_list = []\n",
    "    for p in data:\n",
    "        cities = []\n",
    "        countries = []\n",
    "        country_coordinates = []\n",
    "        city_coordinates = []\n",
    "        cities.append(list(set(GeoText(str(p['title']) + \" \" + str(p['abstract'])).cities)))\n",
    "        countries.append(list(set(GeoText(str(p['title']) + \" \" + str(p['abstract'])).countries)))\n",
    "        p['cities'] = list_uniq(cities)\n",
    "        p['countries'] = list_uniq(countries)\n",
    "        if (len(p['cities'])>0 or len(p['countries'])>0 ):\n",
    "            new_list.append(p)\n",
    "\n",
    "    print(\"Raw data count: \", len(data))\n",
    "    print(\"Articles with city or country information: \", len(new_list))\n",
    "    #create_json(new_list, \"data_with_cities.json\")"
   ]
  }
 ],
 "metadata": {
  "kernelspec": {
   "display_name": "Python 3",
   "language": "python",
   "name": "python3"
  },
  "language_info": {
   "codemirror_mode": {
    "name": "ipython",
    "version": 3
   },
   "file_extension": ".py",
   "mimetype": "text/x-python",
   "name": "python",
   "nbconvert_exporter": "python",
   "pygments_lexer": "ipython3",
   "version": "3.7.6"
  }
 },
 "nbformat": 4,
 "nbformat_minor": 4
}
