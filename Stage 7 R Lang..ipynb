{
 "cells": [
  {
   "cell_type": "markdown",
   "metadata": {},
   "source": [
    "# Aim\n",
    "\n",
    "`create correlation matrix and Visualize with R language (Spearman test and Hierarchical Clustering)`  \n",
    "`correlation between vector distance and metadata difference`  \n",
    "\n",
    "**References**\n",
    "\n",
    "http://www.sthda.com/english/wiki/visualize-correlation-matrix-using-correlogram"
   ]
  },
  {
   "cell_type": "code",
   "execution_count": 2,
   "metadata": {},
   "outputs": [
    {
     "name": "stderr",
     "output_type": "stream",
     "text": [
      "New names:\n",
      "* `Gross domestic product average annual % growth` -> `Gross domestic product average annual % growth...315`\n",
      "* `Gross domestic product average annual % growth` -> `Gross domestic product average annual % growth...368`\n",
      "\n"
     ]
    }
   ],
   "source": [
    "library(\"openxlsx\")\n",
    "library(\"readxl\")\n",
    "library(\"corrplot\")\n",
    "\n",
    "my_data <- read_excel(\"input_data/all_meta_data.xlsx\")\n",
    "my_num_data <- my_data[, sapply(my_data, is.numeric)]\n",
    "all_parameters_corr<-cor(x = my_num_data[-1], y = my_num_data[1], method='spearman')\n",
    "consumption_corr<-cor(x = my_num_data[7:36], y = my_num_data[1], method='spearman')"
   ]
  },
  {
   "cell_type": "code",
   "execution_count": 8,
   "metadata": {},
   "outputs": [],
   "source": [
    "cor.mtest <- function(mat, ...) {\n",
    "    mat <- as.matrix(mat)\n",
    "    n <- ncol(mat)\n",
    "    p.mat<- matrix(NA, n, n)\n",
    "    diag(p.mat) <- 0\n",
    "    for (i in 1:(n - 1)) {\n",
    "        for (j in (i + 1):n) {\n",
    "            tmp <- cor.test(mat[, i], mat[, j], ...)\n",
    "            p.mat[i, j] <- p.mat[j, i] <- tmp$p.value\n",
    "        }\n",
    "    }\n",
    "  colnames(p.mat) <- rownames(p.mat) <- colnames(mat)\n",
    "  p.mat\n",
    "}"
   ]
  },
  {
   "cell_type": "code",
   "execution_count": 9,
   "metadata": {},
   "outputs": [
    {
     "ename": "ERROR",
     "evalue": "Error in mat[, j]: altindis sınırlar dışında\n",
     "output_type": "error",
     "traceback": [
      "Error in mat[, j]: altindis sınırlar dışında\nTraceback:\n",
      "1. cor.mtest(all_parameters_corr)",
      "2. cor.test(mat[, i], mat[, j], ...)   # at line 8 of file <text>",
      "3. cor.test.default(mat[, i], mat[, j], ...)"
     ]
    }
   ],
   "source": [
    "p.mat <- cor.mtest(all_parameters_corr)\n",
    "\n",
    "corrplot(all_parameters_corr, tl.pos='n', type=\"lower\", order=\"hclust\", p.mat = p.mat, sig.level = 0.01, insig = \"blank\")"
   ]
  },
  {
   "cell_type": "code",
   "execution_count": 4,
   "metadata": {},
   "outputs": [],
   "source": [
    "#corrplot(all_parameters_corr, method = \"circle\", tl.pos='n', type=\"lower\", order=\"hclust\", col=colorRampPalette(c(\"red\", \"white\", \"blue\"))(20)) #without label names\n",
    "#corrplot(all_parameters_corr, type=\"lower\", order=\"hclust\", tl.pos='n', p.mat = p.mat, sig.level = 0.01)\n",
    "#write.xlsx(consumption_corr, \"C:/Users/yd/Desktop/CCB Project/results/consumption.xlsx\",col.names = TRUE, row.names = TRUE)"
   ]
  }
 ],
 "metadata": {
  "kernelspec": {
   "display_name": "Python 3",
   "language": "python",
   "name": "python3"
  },
  "language_info": {
   "codemirror_mode": {
    "name": "ipython",
    "version": 3
   },
   "file_extension": ".py",
   "mimetype": "text/x-python",
   "name": "python",
   "nbconvert_exporter": "python",
   "pygments_lexer": "ipython3",
   "version": "3.7.7"
  }
 },
 "nbformat": 4,
 "nbformat_minor": 4
}
